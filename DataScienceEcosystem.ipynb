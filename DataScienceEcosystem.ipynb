{
 "cells": [
  {
   "cell_type": "markdown",
   "id": "82dbdfeb-5f1d-4062-8ca4-2eede2de713a",
   "metadata": {},
   "source": [
    "**Exercise 2: Create markdown cell with title of the notebook**"
   ]
  },
  {
   "cell_type": "markdown",
   "id": "0d1da9f8-ac77-4135-9b09-380049e7ccca",
   "metadata": {},
   "source": [
    "# Data Science Tools and Ecosystem"
   ]
  },
  {
   "cell_type": "markdown",
   "id": "eab10651-604b-4b7d-8b21-3f3c0b3bc615",
   "metadata": {},
   "source": [
    "**Exercise 3 - Create a markdown cell for an introduction**"
   ]
  },
  {
   "cell_type": "markdown",
   "id": "b50b7562-2e15-43f2-8745-bf27e3249192",
   "metadata": {},
   "source": [
    "In this notebook, Data Science Tools and Ecosystem are summarized."
   ]
  },
  {
   "cell_type": "markdown",
   "id": "67868fa7-2ad9-466d-946e-983ef533cd64",
   "metadata": {},
   "source": [
    "**Exercise 10 - Insert a markdown cell to list Objectives**"
   ]
  },
  {
   "cell_type": "markdown",
   "id": "a50a86ee-ba16-4b5b-a6ec-a90e3440b5b6",
   "metadata": {},
   "source": [
    "**Objectives:**\n",
    "* Create a Jupyter Notebook\n",
    "* Insert code and markdown cells\n",
    "* Upload notebook via GitHub\n",
    "\n",
    "List popular languages for Data Science:\n",
    "* Java\n",
    "* C++\n",
    "* Scala\n",
    "* Julia\n",
    "* Python\n",
    "  \n"
   ]
  },
  {
   "cell_type": "markdown",
   "id": "4f23ac48-2184-4676-801e-78578c638816",
   "metadata": {},
   "source": [
    "**Exercise 4 - Create a markdown cell to list data science languages**"
   ]
  },
  {
   "cell_type": "markdown",
   "id": "d73bf987-67ae-4504-913f-ed9cf33cf974",
   "metadata": {},
   "source": [
    "Some of the popular languages that Data Scientists use are:\n",
    "1. Python\n",
    "2. R\n",
    "3. SQL"
   ]
  },
  {
   "cell_type": "markdown",
   "id": "9609ffa2-9816-44bb-9755-56bec874de81",
   "metadata": {},
   "source": [
    "**Exercise 5 - Create a markdown cell to list data science libraries**"
   ]
  },
  {
   "cell_type": "markdown",
   "id": "c44de1fb-9e90-41b8-b0c2-e5bbe85aae1d",
   "metadata": {},
   "source": [
    "Some of the commonly used libraries used by Data Scientists include:\n",
    "1. Pandas\n",
    "2. NumPy\n",
    "3. PyTorch\n",
    "4. Seaborn"
   ]
  },
  {
   "cell_type": "markdown",
   "id": "a77822cd-24bf-4ef8-8bed-d4a3229cb78d",
   "metadata": {},
   "source": [
    "**Exercise 6 - Create a markdown cell with a table of Data Science tools**"
   ]
  },
  {
   "cell_type": "markdown",
   "id": "45e20afb-5bb4-405d-9c1c-bbcde82a8d72",
   "metadata": {},
   "source": [
    "| Data Science Tools |\n",
    "| ------------------ |\n",
    "| Hadoop |\n",
    "| TensorFlow |\n",
    "| R Studio |"
   ]
  },
  {
   "cell_type": "markdown",
   "id": "ff146627-2c58-407f-8f9d-946a0b59467c",
   "metadata": {},
   "source": [
    "**Exercise 7 - Create a markdown cell introducing arithmetic expression examples**"
   ]
  },
  {
   "cell_type": "markdown",
   "id": "2854fc86-269f-4468-ac33-444ed87101de",
   "metadata": {},
   "source": [
    "### Below are a few examples of evaluating arithmetic expressions in Python"
   ]
  },
  {
   "cell_type": "markdown",
   "id": "52915178-3e4c-4ad9-9ef5-91e818a58c7f",
   "metadata": {},
   "source": [
    "**Exercise 8 - Create a code cell to multiply and add numbers**"
   ]
  },
  {
   "cell_type": "code",
   "execution_count": 8,
   "id": "37ab211b-1979-4a77-9051-91f3380e2558",
   "metadata": {},
   "outputs": [
    {
     "data": {
      "text/plain": [
       "17"
      ]
     },
     "execution_count": 8,
     "metadata": {},
     "output_type": "execute_result"
    }
   ],
   "source": [
    "# This a simple arithmetic expression to mutiply then add integers \n",
    "(3*4)+5"
   ]
  },
  {
   "cell_type": "markdown",
   "id": "9ac8ce4e-5b4d-4d97-9881-d0815724bf72",
   "metadata": {},
   "source": [
    "**Exercise 9 - Create a code cell to convert minutes to hours**"
   ]
  },
  {
   "cell_type": "code",
   "execution_count": 10,
   "id": "ae26117c-55de-4d74-99e9-800836a75cc7",
   "metadata": {},
   "outputs": [
    {
     "data": {
      "text/plain": [
       "3.3333333333333335"
      ]
     },
     "execution_count": 10,
     "metadata": {},
     "output_type": "execute_result"
    }
   ],
   "source": [
    "# This will convert 200 minutes to hours by diving by 60\n",
    "200/60"
   ]
  },
  {
   "cell_type": "markdown",
   "id": "c7bce6f5-82e7-414f-9bda-4787bb498ce5",
   "metadata": {},
   "source": [
    "**Exercise 11 - Create a markdown cell to indicate the Author's name**"
   ]
  },
  {
   "cell_type": "markdown",
   "id": "5a8396e7-adc3-4a28-999b-72e59bd7b9fa",
   "metadata": {},
   "source": [
    "## Author\n",
    "Paweł Świerczyński"
   ]
  },
  {
   "cell_type": "code",
   "execution_count": null,
   "id": "c0aee837-8c0e-4726-b912-ef4e0015e508",
   "metadata": {},
   "outputs": [],
   "source": []
  }
 ],
 "metadata": {
  "kernelspec": {
   "display_name": "Python 3 (ipykernel)",
   "language": "python",
   "name": "python3"
  },
  "language_info": {
   "codemirror_mode": {
    "name": "ipython",
    "version": 3
   },
   "file_extension": ".py",
   "mimetype": "text/x-python",
   "name": "python",
   "nbconvert_exporter": "python",
   "pygments_lexer": "ipython3",
   "version": "3.12.7"
  }
 },
 "nbformat": 4,
 "nbformat_minor": 5
}
